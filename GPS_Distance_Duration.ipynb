{
  "cells": [
    {
      "cell_type": "markdown",
      "metadata": {
        "id": "3gN5mhjPKp_p"
      },
      "source": [
        "#A Step-by-Step Guide to Calculate Distances and Trip Durations Between Sets of GPS Coordinates using OpenStreetMap\n",
        "\n",
        "*Giuseppe PULINA - 13/08/2023*"
      ]
    },
    {
      "cell_type": "markdown",
      "source": [
        "This notebook provides a quick method for calculating the road distance and trip duration between two GPS points using [OpenStreetMap](https://www.openstreetmap.org/) API with Python. To accomplish this, we first make HTTP requests to their API and then parse the response.\n",
        "In the following sections, we will use the `requests` library for making the HTTP request and the `json` library for parsing the JSON response.\n"
      ],
      "metadata": {
        "id": "MPqPt-A9Wt-x"
      }
    },
    {
      "cell_type": "markdown",
      "metadata": {
        "id": "DtYQV91GKzL-"
      },
      "source": [
        "##1. Install Required Libraries:\n",
        "Make sure you have the `requests` library installed. You can install it using the following command:"
      ]
    },
    {
      "cell_type": "code",
      "execution_count": null,
      "metadata": {
        "colab": {
          "base_uri": "https://localhost:8080/"
        },
        "id": "jtXH9Yh0KnOJ",
        "outputId": "69302639-8c66-4477-8db9-a6449295e2d9"
      },
      "outputs": [
        {
          "output_type": "stream",
          "name": "stdout",
          "text": [
            "Requirement already satisfied: requests in /usr/local/lib/python3.10/dist-packages (2.31.0)\n",
            "Requirement already satisfied: charset-normalizer<4,>=2 in /usr/local/lib/python3.10/dist-packages (from requests) (3.2.0)\n",
            "Requirement already satisfied: idna<4,>=2.5 in /usr/local/lib/python3.10/dist-packages (from requests) (3.4)\n",
            "Requirement already satisfied: urllib3<3,>=1.21.1 in /usr/local/lib/python3.10/dist-packages (from requests) (2.0.4)\n",
            "Requirement already satisfied: certifi>=2017.4.17 in /usr/local/lib/python3.10/dist-packages (from requests) (2023.7.22)\n"
          ]
        }
      ],
      "source": [
        "pip install requests"
      ]
    },
    {
      "cell_type": "markdown",
      "source": [
        "##2. Prepare/Import Lists of GPS Coordinates:\n",
        "Create lists of GPS coordinates (latitude and longitude) for both origin and destination points. Each list should contain tuples of coordinates.\n",
        "\n",
        "Example:"
      ],
      "metadata": {
        "id": "Y8WDngWaLgjX"
      }
    },
    {
      "cell_type": "code",
      "source": [
        "# Coordinates in decimal degrees\n",
        "origins = [\n",
        "    (52.5200, 13.4050),  # Berlin\n",
        "    (48.8566, 2.3522),   # Paris\n",
        "    (49.61024, 6.12464), # BCL Monterey\n",
        "    # Add more origins\n",
        "]\n",
        "\n",
        "destinations = [\n",
        "    (51.5074, -0.1278),  # London\n",
        "    (41.9028, 12.4964),  # Rome\n",
        "    (49.60890, 6.13186), # Cantine de la fonction publique\n",
        "    # Add more destinations\n",
        "]"
      ],
      "metadata": {
        "id": "-TwSvtysLdO3"
      },
      "execution_count": null,
      "outputs": []
    },
    {
      "cell_type": "markdown",
      "source": [
        "##3. Calculate Distances and Durations:\n",
        "\n",
        "Use the following code to calculate *road* and *walking* distances, as well as trip durations, between each origin and destination pair.\n",
        "\n",
        "In this code, the `get_osrm_route_info` function takes latitude and longitude coordinates for two points, makes an API request to the [OSRM API](http://project-osrm.org/docs/v5.22.0/api/?language=Python#general-options), and extracts the road distance and trip duration from the API response. The calculated distance is in kilometers and the duration in minutes.\n",
        "\n",
        "Please note that the [OSRM API](http://project-osrm.org/docs/v5.22.0/api/?language=Python#general-options) endpoint used in the following code is a public demo server. If you plan to use it in a production environment or for heavy usage, it's recommended to set up your own OSRM server.\n",
        "\n",
        "Also, keep in mind that the [OpenStreetMap API usage policy](https://operations.osmfoundation.org/policies/api/) may change, so make sure to review and comply with their terms of use before integrating this code into an application."
      ],
      "metadata": {
        "id": "ajFDUnq_MIm1"
      }
    },
    {
      "cell_type": "code",
      "source": [
        "# @title Run this code if you just want a list of distances and durations for a specific profile\n",
        "import requests\n",
        "\n",
        "def get_osrm_route_info(profile, lat1, lon1, lat2, lon2):\n",
        "    osrm_endpoint = \"http://router.project-osrm.org/route/v1/{}/{},{};{},{}?geometries=geojson&steps=true\"\n",
        "    response = requests.get(osrm_endpoint.format(profile, lon1, lat1, lon2, lat2))\n",
        "\n",
        "    if response.status_code == 200: # The HTTP 200 OK success status response code indicates that the request has succeeded\n",
        "        data = response.json()\n",
        "        if \"routes\" in data and len(data[\"routes\"]) > 0:\n",
        "            route = data[\"routes\"][0]\n",
        "            distance = route[\"distance\"] / 1000  # Convert meters to kilometers\n",
        "            duration = route[\"duration\"] / 60  # Convert seconds to minutes\n",
        "            return distance, duration\n",
        "        else:\n",
        "            return None, None\n",
        "    else:\n",
        "        return None, None\n",
        "\n",
        "#profiles = [\"driving\", \"walking\"]  # Feel free to modify profiles as required. However, there appears to be an issue with the walking profile, as it currently appears to match the driving profile exactly.\n",
        "profiles = [\"driving\"]  # Change profiles as needed. However, there appears to be an issue with the walking profile, as it currently seems to match the driving profile exactly\n",
        "\n",
        "for profile in profiles:\n",
        "\n",
        "    distances_profile = [] # This initializes a vector of distances in kilometers associated with the current profile.\n",
        "    durations_profile = [] # This initializes a vector of trip durations in minutes associated with the current profile.\n",
        "\n",
        "    print(f\"Calculating distances using profile: {profile}\")\n",
        "    for origin in origins:\n",
        "        lat1, lon1 = origin\n",
        "        for destination in destinations:\n",
        "            lat2, lon2 = destination\n",
        "            distance, duration = get_osrm_route_info(profile, lat1, lon1, lat2, lon2)\n",
        "\n",
        "            if distance is not None and duration is not None:\n",
        "                distances_profile.append(round(distance, 2))\n",
        "                durations_profile.append(duration)\n",
        "                print(f\"{profile.capitalize()} distance from {origin} to {destination}: {distance:.2f} km\")  # Comment out this print statement if your list of origins or destinations is too lengthy.\n",
        "                print(f\"Duration of the {profile} trip: {duration:.2f} minutes\") # Comment out this print statement if your list of origins or destinations is too lengthy.\n",
        "            else:\n",
        "                print(f\"Error fetching route information for {profile} from OpenStreetMap API\")"
      ],
      "metadata": {
        "id": "dDkACKI9KMYK",
        "colab": {
          "base_uri": "https://localhost:8080/"
        },
        "outputId": "06fa0566-7784-4eea-e49f-b3088c6f7a7f"
      },
      "execution_count": null,
      "outputs": [
        {
          "output_type": "stream",
          "name": "stdout",
          "text": [
            "Calculating distances using profile: driving\n",
            "Driving distance from (52.52, 13.405) to (51.5074, -0.1278): 1101.52 km\n",
            "Duration of the driving trip: 713.14 minutes\n",
            "Driving distance from (52.52, 13.405) to (41.9028, 12.4964): 1502.65 km\n",
            "Duration of the driving trip: 920.47 minutes\n",
            "Driving distance from (52.52, 13.405) to (49.6089, 6.13186): 763.42 km\n",
            "Duration of the driving trip: 474.86 minutes\n",
            "Driving distance from (48.8566, 2.3522) to (51.5074, -0.1278): 617.38 km\n",
            "Duration of the driving trip: 656.64 minutes\n",
            "Driving distance from (48.8566, 2.3522) to (41.9028, 12.4964): 1432.84 km\n",
            "Duration of the driving trip: 907.32 minutes\n",
            "Driving distance from (48.8566, 2.3522) to (49.6089, 6.13186): 358.01 km\n",
            "Duration of the driving trip: 236.52 minutes\n",
            "Driving distance from (49.61024, 6.12464) to (51.5074, -0.1278): 582.59 km\n",
            "Duration of the driving trip: 409.50 minutes\n",
            "Driving distance from (49.61024, 6.12464) to (41.9028, 12.4964): 1263.24 km\n",
            "Duration of the driving trip: 818.49 minutes\n",
            "Driving distance from (49.61024, 6.12464) to (49.6089, 6.13186): 0.69 km\n",
            "Duration of the driving trip: 1.67 minutes\n"
          ]
        }
      ]
    },
    {
      "cell_type": "markdown",
      "source": [
        "##4. Customization:\n",
        "\n",
        "Customize the origins and destinations lists with your desired coordinates.\n",
        "You can adjust the profiles to calculate distances for various modes of travel (e.g., \"driving-car\", \"cycling-regular\", \"walking\" etc.).\n",
        "However, I've observed that the \"walking\" profile does not appear to yield a distance/duration distinct from the \"driving\" profile. Therefore,\n",
        "please feel free to further modify the code to accommodate specific use cases or requirements, but always make sure to verify the consistency of the results.\n",
        "\n",
        "\n",
        "##5. Review API Usage Policy:\n",
        "As always, review and comply with the [OpenStreetMap API usage policy](https://operations.osmfoundation.org/policies/api/) and consider setting up your own OSRM server for heavier usage.\n",
        "\n",
        "By following these steps, you can calculate distances and trip duration between multiple lists of GPS coordinates using the [OpenStreetMap](https://www.openstreetmap.org/) API for driving and other scenarios."
      ],
      "metadata": {
        "id": "_HZwQCkRN7VN"
      }
    },
    {
      "cell_type": "markdown",
      "source": [
        "##6. Additional material"
      ],
      "metadata": {
        "id": "N02a9onst7Ow"
      }
    },
    {
      "cell_type": "markdown",
      "source": [
        "###6.1 Plotting Trip Distances and Durations\n",
        "\n",
        "We can enhance the program by adding code to visualize the trip distances and durations using the `matplotlib` library. Ensure that you have `matplotlib` installed by executing the following command:"
      ],
      "metadata": {
        "id": "WILvfHXPPj1c"
      }
    },
    {
      "cell_type": "code",
      "source": [
        "pip install matplotlib"
      ],
      "metadata": {
        "colab": {
          "base_uri": "https://localhost:8080/"
        },
        "id": "oJ6X3l08gVu7",
        "outputId": "e1c26552-85f3-4af7-ad64-39991b464d2a"
      },
      "execution_count": null,
      "outputs": [
        {
          "output_type": "stream",
          "name": "stdout",
          "text": [
            "Requirement already satisfied: matplotlib in /usr/local/lib/python3.10/dist-packages (3.7.1)\n",
            "Requirement already satisfied: contourpy>=1.0.1 in /usr/local/lib/python3.10/dist-packages (from matplotlib) (1.1.0)\n",
            "Requirement already satisfied: cycler>=0.10 in /usr/local/lib/python3.10/dist-packages (from matplotlib) (0.11.0)\n",
            "Requirement already satisfied: fonttools>=4.22.0 in /usr/local/lib/python3.10/dist-packages (from matplotlib) (4.42.0)\n",
            "Requirement already satisfied: kiwisolver>=1.0.1 in /usr/local/lib/python3.10/dist-packages (from matplotlib) (1.4.4)\n",
            "Requirement already satisfied: numpy>=1.20 in /usr/local/lib/python3.10/dist-packages (from matplotlib) (1.23.5)\n",
            "Requirement already satisfied: packaging>=20.0 in /usr/local/lib/python3.10/dist-packages (from matplotlib) (23.1)\n",
            "Requirement already satisfied: pillow>=6.2.0 in /usr/local/lib/python3.10/dist-packages (from matplotlib) (9.4.0)\n",
            "Requirement already satisfied: pyparsing>=2.3.1 in /usr/local/lib/python3.10/dist-packages (from matplotlib) (3.1.1)\n",
            "Requirement already satisfied: python-dateutil>=2.7 in /usr/local/lib/python3.10/dist-packages (from matplotlib) (2.8.2)\n",
            "Requirement already satisfied: six>=1.5 in /usr/local/lib/python3.10/dist-packages (from python-dateutil>=2.7->matplotlib) (1.16.0)\n"
          ]
        }
      ]
    },
    {
      "cell_type": "code",
      "source": [
        "import matplotlib.pyplot as plt"
      ],
      "metadata": {
        "id": "ZCWH5WF8xfY0"
      },
      "execution_count": null,
      "outputs": []
    },
    {
      "cell_type": "markdown",
      "source": [
        "The following code includes a section for plotting, so if you need such visualizations, you should run this version instead of the one in Section 3.\n",
        "\n",
        "This code creates scatter plots showing the relationship between trip distances and durations for each origin-destination pair using the matplotlib library. The code generates separate plots for each chosen travel profile (e.g., \"driving\" and \"walking\")."
      ],
      "metadata": {
        "id": "xxijLoepfMba"
      }
    },
    {
      "cell_type": "code",
      "source": [
        "# @title Run this code if you want to add scatter plots\n",
        "import requests\n",
        "\n",
        "def get_osrm_route_info(profile, lat1, lon1, lat2, lon2):\n",
        "    osrm_endpoint = \"http://router.project-osrm.org/route/v1/{}/{},{};{},{}?geometries=geojson&steps=true\"\n",
        "    response = requests.get(osrm_endpoint.format(profile, lon1, lat1, lon2, lat2))\n",
        "\n",
        "    if response.status_code == 200: # The HTTP 200 OK success status response code indicates that the request has succeeded\n",
        "        data = response.json()\n",
        "        if \"routes\" in data and len(data[\"routes\"]) > 0:\n",
        "            route = data[\"routes\"][0]\n",
        "            distance = route[\"distance\"] / 1000  # Convert meters to kilometers\n",
        "            duration = route[\"duration\"] / 60  # Convert seconds to minutes\n",
        "            return distance, duration\n",
        "        else:\n",
        "            return None, None\n",
        "    else:\n",
        "        return None, None\n",
        "\n",
        "#profiles = [\"driving\", \"walking\"]  # Feel free to modify profiles as required. However, there appears to be an issue with profiles other than driving, as any other profile currently appears to match the driving profile exactly.\n",
        "profiles = [\"driving\"]  # Let's stick to the driving profile for now.\n",
        "\n",
        "for profile in profiles:\n",
        "\n",
        "    distances_profile = [] # This initializes a vector of distances in kilometers associated with the current profile.\n",
        "    durations_profile = [] # This initializes a vector of trip durations in minutes associated with the current profile.\n",
        "\n",
        "    print(f\"Calculating distances using profile: {profile}\")\n",
        "    for origin in origins:\n",
        "        lat1, lon1 = origin\n",
        "        for destination in destinations:\n",
        "            lat2, lon2 = destination\n",
        "            distance, duration = get_osrm_route_info(profile, lat1, lon1, lat2, lon2)\n",
        "\n",
        "            if distance is not None and duration is not None:\n",
        "                distances_profile.append(distance)\n",
        "                durations_profile.append(duration)\n",
        "                print(f\"{profile.capitalize()} distance from {origin} to {destination}: {distance:.2f} km\")  # Comment this print out if your origin/destination list is too long.\n",
        "                print(f\"Duration of the {profile} trip: {duration:.2f} minutes\") # Comment this print out if your origin/destination list is too long.\n",
        "            else:\n",
        "                print(f\"Error fetching route information for {profile} from OpenStreetMap API\")\n",
        "\n",
        "    plt.figure(figsize=(10, 6))\n",
        "    plt.scatter(distances_profile, durations_profile, label=profile.capitalize(), marker='o')\n",
        "    plt.xlabel('Distance (km)')\n",
        "    plt.ylabel('Duration (minutes)')\n",
        "    plt.title(f'{profile.capitalize()} Trip Distances and Durations')\n",
        "    plt.legend()\n",
        "    plt.grid(True)\n",
        "    plt.show()"
      ],
      "metadata": {
        "colab": {
          "base_uri": "https://localhost:8080/",
          "height": 894
        },
        "id": "23kHXAT_MFJJ",
        "outputId": "140925f2-048e-4683-a494-fc428a4f312b"
      },
      "execution_count": null,
      "outputs": [
        {
          "output_type": "stream",
          "name": "stdout",
          "text": [
            "Calculating distances using profile: driving\n",
            "Driving distance from (52.52, 13.405) to (51.5074, -0.1278): 1101.52 km\n",
            "Duration of the driving trip: 713.14 minutes\n",
            "Driving distance from (52.52, 13.405) to (41.9028, 12.4964): 1502.65 km\n",
            "Duration of the driving trip: 920.47 minutes\n",
            "Driving distance from (52.52, 13.405) to (49.6089, 6.13186): 763.42 km\n",
            "Duration of the driving trip: 474.86 minutes\n",
            "Driving distance from (48.8566, 2.3522) to (51.5074, -0.1278): 617.38 km\n",
            "Duration of the driving trip: 656.64 minutes\n",
            "Driving distance from (48.8566, 2.3522) to (41.9028, 12.4964): 1432.84 km\n",
            "Duration of the driving trip: 907.32 minutes\n",
            "Driving distance from (48.8566, 2.3522) to (49.6089, 6.13186): 358.01 km\n",
            "Duration of the driving trip: 236.52 minutes\n",
            "Driving distance from (49.61024, 6.12464) to (51.5074, -0.1278): 582.59 km\n",
            "Duration of the driving trip: 409.50 minutes\n",
            "Driving distance from (49.61024, 6.12464) to (41.9028, 12.4964): 1263.24 km\n",
            "Duration of the driving trip: 818.49 minutes\n",
            "Driving distance from (49.61024, 6.12464) to (49.6089, 6.13186): 0.69 km\n",
            "Duration of the driving trip: 1.67 minutes\n"
          ]
        },
        {
          "output_type": "display_data",
          "data": {
            "text/plain": [
              "<Figure size 1000x600 with 1 Axes>"
            ],
            "image/png": "[encoded data removed]"
          },
          "metadata": {}
        }
      ]
    },
    {
      "cell_type": "markdown",
      "source": [
        "###6.2 Great-circle Distance\n",
        "To calculate the great-circle distance in kilometers between two GPS points, we can employ the [Haversine formula](https://en.wikipedia.org/wiki/Haversine_formula):\n",
        "\n",
        "\n",
        ">\n",
        "$$\n",
        "  d = 2 \\ r \\ arcsin\\left(\\sqrt{h}\\right) \\equiv 2 \\ r \\ arctan\\left(\\frac{\\sqrt h}{\\sqrt{1 - h}}\\right)\n",
        "$$\n",
        " where\n",
        ">\n",
        " >$r$ is the sphere radius, and\n",
        ">\n",
        " >$h = sin^2\\left(\\frac{\\text{difference in latitude}}{2}\\right) + cos(\\text{latitude_1}) \\ cos(\\text{latitude_2}) \\ sin^2\\left(\\frac{\\text{difference in longitude}}{2}\\right) $.\n",
        "\n",
        "This formula computes the distance between two points on the surface of a sphere, such as the Earth, based on their latitude and longitude coordinates."
      ],
      "metadata": {
        "id": "B776m1QXuq_h"
      }
    },
    {
      "cell_type": "code",
      "source": [
        "import math as m\n",
        "\n",
        "def haversine_distance(lat1, lon1, lat2, lon2):\n",
        "    r = 6371  # Earth's radius in kilometers. Remember, this is an approximation. The equatorial radius of the Earth is about 6378 km, while its polar radius is around 6357 km. This shows the Earth's slight flattening at the poles.\"\n",
        "\n",
        "    #convert coordinates in radians to then use trig functions\n",
        "    lat1_rad = m.radians(lat1)\n",
        "    lon1_rad = m.radians(lon1)\n",
        "    lat2_rad = m.radians(lat2)\n",
        "    lon2_rad = m.radians(lon2)\n",
        "\n",
        "    dlat = lat2_rad - lat1_rad\n",
        "    dlon = lon2_rad - lon1_rad\n",
        "\n",
        "    h = m.sin(dlat / 2) ** 2 + m.cos(lat1_rad) * m.cos(lat2_rad) * m.sin(dlon / 2) ** 2\n",
        "    #ars_h = m.asin(m.sqrt(h))   # result is always between -pi and pi.\n",
        "    art_h =  m.atan2(m.sqrt(h), m.sqrt(1 - h))   # some  express arcsine with arctangent, I did not test whether this has any advantages: arcsin(x) = arctan(x/(1-x^2)). result is always between -pi and pi\n",
        "\n",
        "    distance = 2 * r * art_h\n",
        "    return distance\n",
        "\n",
        "distances_haversine = [] # This initializes a vector of great-circle distances in kilometers\n",
        "\n",
        "print(f\"Haversine distance between the all pairs\")\n",
        "for origin in origins:\n",
        "    for destination in destinations:\n",
        "        lat1, lon1 = origin\n",
        "        lat2, lon2 = destination\n",
        "\n",
        "        distance = haversine_distance(lat1, lon1, lat2, lon2)\n",
        "\n",
        "        if distance is not None:\n",
        "           distances_haversine.append(round(distance,2))\n",
        "           print(f\"Haversine distance from {origin} to {destination}: {distance:.2f} km\")\n",
        "        else:\n",
        "           print(f\"Error calculating the Haversine\")\n"
      ],
      "metadata": {
        "id": "vF8xg5fhq5Hg",
        "colab": {
          "base_uri": "https://localhost:8080/"
        },
        "outputId": "de75cfeb-d477-41a1-8ead-9a0870a6b7f2"
      },
      "execution_count": null,
      "outputs": [
        {
          "output_type": "stream",
          "name": "stdout",
          "text": [
            "Haversine distance between the all pairs\n",
            "Haversine distance from (52.52, 13.405) to (51.5074, -0.1278): 931.57 km\n",
            "Haversine distance from (52.52, 13.405) to (41.9028, 12.4964): 1182.55 km\n",
            "Haversine distance from (52.52, 13.405) to (49.6089, 6.13186): 602.14 km\n",
            "Haversine distance from (48.8566, 2.3522) to (51.5074, -0.1278): 343.56 km\n",
            "Haversine distance from (48.8566, 2.3522) to (41.9028, 12.4964): 1105.28 km\n",
            "Haversine distance from (48.8566, 2.3522) to (49.6089, 6.13186): 286.87 km\n",
            "Haversine distance from (49.61024, 6.12464) to (51.5074, -0.1278): 489.25 km\n",
            "Haversine distance from (49.61024, 6.12464) to (41.9028, 12.4964): 988.53 km\n",
            "Haversine distance from (49.61024, 6.12464) to (49.6089, 6.13186): 0.54 km\n"
          ]
        }
      ]
    },
    {
      "cell_type": "markdown",
      "source": [
        "We can compare the Haversine distance with the measure from the profile computed above,"
      ],
      "metadata": {
        "id": "qYoXFdDMqy5q"
      }
    },
    {
      "cell_type": "code",
      "source": [
        "pip install numpy"
      ],
      "metadata": {
        "colab": {
          "base_uri": "https://localhost:8080/"
        },
        "id": "B_P3QiL-7_xl",
        "outputId": "2e349284-c9a8-4ea8-aa6b-40084fdca102"
      },
      "execution_count": null,
      "outputs": [
        {
          "output_type": "stream",
          "name": "stdout",
          "text": [
            "Requirement already satisfied: numpy in /usr/local/lib/python3.10/dist-packages (1.23.5)\n"
          ]
        }
      ]
    },
    {
      "cell_type": "code",
      "source": [
        "import numpy as np\n",
        "first_list = np.array(distances_profile)\n",
        "second_list = np.array(distances_haversine)\n",
        "\n",
        "distance_difference = first_list - second_list\n",
        "#distance_difference[:, None]\n",
        "formatted_distance_difference = [ '%.2f' % elem for elem in distance_difference ]\n",
        "\n",
        "print(f\"Difference in km between {profile.capitalize()} and Haversine distances: {list(formatted_distance_difference)}\")"
      ],
      "metadata": {
        "colab": {
          "base_uri": "https://localhost:8080/"
        },
        "id": "wWqt7TgArEmR",
        "outputId": "13468145-6108-4019-fc33-195fa63974fd"
      },
      "execution_count": null,
      "outputs": [
        {
          "output_type": "stream",
          "name": "stdout",
          "text": [
            "Difference in km between Driving and Haversine distances: ['169.95', '320.10', '161.28', '273.82', '327.56', '71.14', '93.34', '274.71', '0.15']\n"
          ]
        }
      ]
    },
    {
      "cell_type": "markdown",
      "source": [
        "Let's compare the two measures (profile and harversine) in a plot, keeping the trip duration as calculated with the selected profile."
      ],
      "metadata": {
        "id": "a-2H86usspdO"
      }
    },
    {
      "cell_type": "code",
      "source": [
        "plt.figure(figsize=(10, 6))\n",
        "plt.scatter(distances_profile, durations_profile, label=profile.capitalize(), marker='o')\n",
        "plt.scatter(distances_haversine, durations_profile, label='Haversine', marker='x')\n",
        "plt.xlabel('Distance (km)')\n",
        "plt.ylabel('Duration (minutes)')\n",
        "plt.title('Trip Distances and Durations')\n",
        "plt.legend()\n",
        "plt.grid(True)\n",
        "plt.show()\n"
      ],
      "metadata": {
        "colab": {
          "base_uri": "https://localhost:8080/",
          "height": 564
        },
        "id": "hgNYGAx-qzYA",
        "outputId": "344bc5bc-0567-4ddb-e0c7-24c2ed1d10a6"
      },
      "execution_count": null,
      "outputs": [
        {
          "output_type": "display_data",
          "data": {
            "text/plain": [
              "<Figure size 1000x600 with 1 Axes>"
            ],
            "image/png": "[encoded data removed]"
          },
          "metadata": {}
        }
      ]
    },
    {
      "cell_type": "markdown",
      "source": [
        "As expected, the Haversine distance is smaller."
      ],
      "metadata": {
        "id": "ZOzDL-oAtGoP"
      }
    },
    {
      "cell_type": "markdown",
      "source": [
        "###6.3 Calculating and Storing the Closest Destination with Associated Distance and Trip Duration\n",
        "\n",
        "To extend the code to compute and store the closest destination for each origin, based on the profile's distance and trip duration, a typical approach is to save this distance and compare it to the one currently being calculated in the main loop.  \n",
        "\n",
        "> One can implement this method to reduce the usage of the OpenStreetMap API. First, for each origin, find the closest destination with respect to the haversine distance, and then use this set as destination list to make the API calls.\n"
      ],
      "metadata": {
        "id": "blaN1-pNSZRL"
      }
    }
  ],
  "metadata": {
    "colab": {
      "provenance": [],
      "authorship_tag": "ABX9TyOYSrKxykKIVIdgpLP21/9w"
    },
    "kernelspec": {
      "display_name": "Python 3",
      "name": "python3"
    },
    "language_info": {
      "name": "python"
    }
  },
  "nbformat": 4,
  "nbformat_minor": 0
}